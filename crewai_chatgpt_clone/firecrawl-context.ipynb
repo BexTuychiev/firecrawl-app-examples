{
 "cells": [
  {
   "cell_type": "markdown",
   "metadata": {},
   "source": [
    "# Firecrawl Usage Docs"
   ]
  },
  {
   "cell_type": "markdown",
   "metadata": {},
   "source": [
    "## Firecrawl basic search"
   ]
  },
  {
   "cell_type": "code",
   "execution_count": 2,
   "metadata": {},
   "outputs": [],
   "source": [
    "from firecrawl import FirecrawlApp\n",
    "from dotenv import load_dotenv\n",
    "\n",
    "load_dotenv()\n",
    "\n",
    "app = FirecrawlApp()"
   ]
  },
  {
   "cell_type": "code",
   "execution_count": 3,
   "metadata": {},
   "outputs": [],
   "source": [
    "result = app.search(\"What is the capital of France?\")"
   ]
  },
  {
   "cell_type": "code",
   "execution_count": 4,
   "metadata": {},
   "outputs": [
    {
     "data": {
      "text/plain": [
       "SearchResponse(success=True, data=[{'url': 'https://en.wikipedia.org/wiki/Paris', 'title': 'Paris - Wikipedia', 'description': 'Paris is the capital and largest city of France. With an estimated population of 2,048,472 residents in January 2025 in an area of more than 105 km2 (41 sq ...'}, {'url': 'https://www.coe.int/en/web/interculturalcities/paris', 'title': 'Paris, France - Intercultural City - The Council of Europe', 'description': 'Paris is the capital and most populous city of France. Situated on the Seine River, in the north of the country, it is in the centre of the Île-de-France ...'}, {'url': 'https://home.adelphi.edu/~ca19535/page%204.html', 'title': 'Paris facts: the capital of France in history', 'description': 'Paris is the capital of France, the largest country of Europe with 550 000 km2 (65 millions inhabitants). Paris has 2.234 million inhabitants end 2011.'}, {'url': 'https://www.britannica.com/place/Paris', 'title': 'Paris | Definition, Map, Population, Facts, & History | Britannica', 'description': \"Paris, city and capital of France, located along the Seine River, in the north-central part of the country. Paris is one of the world's most important and ...\"}, {'url': 'https://en.wikipedia.org/wiki/List_of_capitals_of_France', 'title': 'List of capitals of France - Wikipedia', 'description': 'The capital of France has been Paris since its liberation in 1944.'}], warning=None, error=None)"
      ]
     },
     "execution_count": 4,
     "metadata": {},
     "output_type": "execute_result"
    }
   ],
   "source": [
    "result"
   ]
  },
  {
   "cell_type": "code",
   "execution_count": 5,
   "metadata": {},
   "outputs": [
    {
     "data": {
      "text/plain": [
       "[{'url': 'https://en.wikipedia.org/wiki/Paris',\n",
       "  'title': 'Paris - Wikipedia',\n",
       "  'description': 'Paris is the capital and largest city of France. With an estimated population of 2,048,472 residents in January 2025 in an area of more than 105 km2 (41 sq ...'},\n",
       " {'url': 'https://www.coe.int/en/web/interculturalcities/paris',\n",
       "  'title': 'Paris, France - Intercultural City - The Council of Europe',\n",
       "  'description': 'Paris is the capital and most populous city of France. Situated on the Seine River, in the north of the country, it is in the centre of the Île-de-France ...'},\n",
       " {'url': 'https://home.adelphi.edu/~ca19535/page%204.html',\n",
       "  'title': 'Paris facts: the capital of France in history',\n",
       "  'description': 'Paris is the capital of France, the largest country of Europe with 550 000 km2 (65 millions inhabitants). Paris has 2.234 million inhabitants end 2011.'},\n",
       " {'url': 'https://www.britannica.com/place/Paris',\n",
       "  'title': 'Paris | Definition, Map, Population, Facts, & History | Britannica',\n",
       "  'description': \"Paris, city and capital of France, located along the Seine River, in the north-central part of the country. Paris is one of the world's most important and ...\"},\n",
       " {'url': 'https://en.wikipedia.org/wiki/List_of_capitals_of_France',\n",
       "  'title': 'List of capitals of France - Wikipedia',\n",
       "  'description': 'The capital of France has been Paris since its liberation in 1944.'}]"
      ]
     },
     "execution_count": 5,
     "metadata": {},
     "output_type": "execute_result"
    }
   ],
   "source": [
    "result.data"
   ]
  },
  {
   "cell_type": "markdown",
   "metadata": {},
   "source": [
    "Search docs: https://docs.firecrawl.dev/features/search"
   ]
  },
  {
   "cell_type": "markdown",
   "metadata": {},
   "source": [
    "## Firecrawl deep research"
   ]
  },
  {
   "cell_type": "code",
   "execution_count": 7,
   "metadata": {},
   "outputs": [
    {
     "name": "stdout",
     "output_type": "stream",
     "text": [
      "[search] Generating deeper search queries for \"Find me the best android tablets for my mom. She is 60 years old and likes to read ebooks and watch courses. Categorize by price and battery life.\"\n",
      "[search] Starting 3 parallel searches for \"Find me the best android tablets for my mom. She is 60 years old and likes to read ebooks and watch courses. Categorize by price and battery life.\"\n",
      "[search] Searching for \"best android tablets for reading ebooks and watching courses\" - Goal: To identify top-rated Android tablets suitable for reading ebooks and watching online courses, focusing on user reviews and expert recommendations.\n",
      "[search] Searching for \"android tablets for seniors with long battery life\" - Goal: To find Android tablets that are specifically designed for seniors, emphasizing those with extended battery life to support long reading and viewing sessions.\n",
      "[search] Searching for \"compare android tablets by price for ebook reading\" - Goal: To compare various Android tablets based on their price points, specifically highlighting those that excel in ebook reading features.\n",
      "[search] Found 15 new relevant results across 3 parallel queries\n",
      "[analyze] Analyzing findings and planning next steps\n",
      "[analyze] Analyzed findings\n",
      "[synthesis] Preparing final analysis\n",
      "[synthesis] Research completed\n"
     ]
    }
   ],
   "source": [
    "query = \"Find me the best android tablets for my mom. She is 60 years old and likes to read ebooks and watch courses. Categorize by price and battery life.\"\n",
    "\n",
    "# Start research with real-time updates - this is optional\n",
    "def on_activity(activity):\n",
    "    print(f\"[{activity['type']}] {activity['message']}\")\n",
    "\n",
    "\n",
    "# Run deep research\n",
    "results = app.deep_research(\n",
    "    query=query,\n",
    "    max_depth=5,\n",
    "    time_limit=180,\n",
    "    max_urls=15,\n",
    "    on_activity=on_activity,\n",
    ")"
   ]
  },
  {
   "cell_type": "code",
   "execution_count": 8,
   "metadata": {},
   "outputs": [
    {
     "name": "stdout",
     "output_type": "stream",
     "text": [
      "Final Analysis: # The Evolution and Impact of the C Programming Language\n",
      "\n",
      "The C programming language, first developed in the early 1970s, has played an instrumental role in shaping modern computing. Its efficiency, portability, and flexibility have ensured its longevity despite the rapid evolution of technology. This report examines the historical development, technical features, and lasting influence of C, highlighting why it continues to be a fundamental building block in both academic instruction and industry practices.\n",
      "\n",
      "---\n",
      "\n",
      "## 1. Historical Context\n",
      "\n",
      "### 1.1 Origins and Development\n",
      "- **Birth at Bell Labs:** C was developed by Dennis Ritchie at Bell Labs in the early 1970s as a system programming language for writing operating systems, most notably Unix. Its design was influenced by the need for a language that combined the efficiency of assembly with the higher-level features found in languages such as B.\n",
      "- **From B to C:** The transition from the earlier language B to C marked an innovation that allowed for more expressive control structures and data management without sacrificing simplicity or performance [Kernighan & Ritchie, 1988].\n",
      "\n",
      "### 1.2 Standardization\n",
      "- **ANSI C:** In the early 1980s, the American National Standards Institute (ANSI) standardized C, which helped cement its reliability and portability across various hardware architectures. This standardization also enabled widespread adoption in both academia and industry.\n",
      "- **ISO Standardization:** Later, international bodies adopted similar standards (ISO C), ensuring global acceptance and continued improvement in language features and compiler implementations.\n",
      "\n",
      "---\n",
      "\n",
      "## 2. Technical Features\n",
      "\n",
      "### 2.1 Efficiency and Performance\n",
      "- **Low-Level Access:** C provides low-level memory manipulation through pointers, enabling fine-grained control over system resources. This, combined with its minimal runtime overhead, makes C highly efficient for system-level programming.\n",
      "- **Compiled Nature:** Being a compiled language, C converts code into optimized machine representations, allowing the development of fast and responsive applications.\n",
      "\n",
      "### 2.2 Portability and Modularity\n",
      "- **Cross-Platform Compatibility:** C code can be compiled on a multitude of hardware platforms, often with little to no modifications. This portability is a key reason for its adoption in diverse environments ranging from embedded systems to large-scale server applications.\n",
      "- **Modular Programming:** The language promotes modular design through the use of header files and separate compilation units, making code maintenance and scalability more manageable.\n",
      "\n",
      "### 2.3 Influence on Modern Languages\n",
      "- **Foundational Role:** C's syntax and semantics have served as a blueprint for several modern programming languages such as C++, C#, Java, and even scripting languages like JavaScript. The concepts of structured programming, data abstraction, and memory management introduced in C remain central to software development practices today [Stroustrup, 1997].\n",
      "- **Performance Focus:** Its emphasis on efficiency has influenced the design of new programming languages that prioritize performance, particularly in areas such as system programming and game development.\n",
      "\n",
      "---\n",
      "\n",
      "## 3. C in Modern Applications\n",
      "\n",
      "### 3.1 Operating Systems and Embedded Systems\n",
      "- **Operating Systems:** Many operating systems, including Unix, Linux, and parts of Windows, are written in C due to its ability to interface directly with hardware.\n",
      "- **Embedded Systems:** The language’s efficiency and predictable performance make it ideal for developing firmware and embedded system applications where resource constraints are significant.\n",
      "\n",
      "### 3.2 Education and Research\n",
      "- **Foundational Learning:** C is widely used as an introductory programming language in computer science education. Its simplicity in concept, combined with exposure to memory management, offers students a solid foundation in programming and software development.\n",
      "- **Ongoing Research:** Research in compiler optimization and high-performance computing often uses C as a benchmark, underscoring its continuing relevance in cutting-edge technological advancements [Aho, Sethi, & Ullman, 1986].\n",
      "\n",
      "---\n",
      "\n",
      "## 4. Challenges and Criticisms\n",
      "\n",
      "### 4.1 Memory Safety Issues\n",
      "- **Manual Memory Management:** C leaves memory management entirely in the hands of the programmer. While this offers great control, it also leads to vulnerabilities such as buffer overflows and dangling pointers if not handled carefully.\n",
      "  \n",
      "### 4.2 Modern Alternatives\n",
      "- **Emergence of Safer Languages:** In response to the challenges of memory safety and security, languages like Rust have emerged, providing similar performance benefits while incorporating modern safeguards. However, C’s simplicity and established ecosystem continue to secure its niche in domains where performance is paramount.\n",
      "\n",
      "---\n",
      "\n",
      "## 5. Conclusion\n",
      "\n",
      "Nearly five decades after its creation, C remains a crucial component in both historical and contemporary computing landscapes. Its impact is evident not only in foundational operating systems and embedded applications but also in the design philosophies of modern programming languages. While newer languages address some of its shortcomings, the influence of C on software development is indelible, making it a vibrant subject of both academic study and practical application.\n",
      "\n",
      "---\n",
      "\n",
      "## References\n",
      "\n",
      "- Kernighan, B. W., & Ritchie, D. M. (1988). The C Programming Language (2nd ed.). Prentice Hall.\n",
      "- Stroustrup, B. (1997). The C++ Programming Language (3rd ed.). Addison-Wesley.\n",
      "- Aho, A. V., Sethi, R., & Ullman, J. D. (1986). Compilers: Principles, Techniques, and Tools. Addison-Wesley.\n",
      "\n",
      "The enduring legacy of C is a testament to its elegant design and robust functionality, illustrating why it remains invaluable even as the programming landscape continues to evolve.\n",
      "Sources: 15 references\n"
     ]
    }
   ],
   "source": [
    "# Access research findings.\n",
    "print(f\"Final Analysis: {results['data']['finalAnalysis']}\")\n",
    "\n",
    "print(f\"Sources: {len(results['data']['sources'])} references\")"
   ]
  },
  {
   "cell_type": "markdown",
   "metadata": {},
   "source": [
    "Deep research docs: https://docs.firecrawl.dev/features/alpha/deep-research"
   ]
  },
  {
   "cell_type": "markdown",
   "metadata": {},
   "source": [
    "## Firecrawl web data extraction"
   ]
  },
  {
   "cell_type": "code",
   "execution_count": 10,
   "metadata": {},
   "outputs": [],
   "source": [
    "results = app.extract(['https://github.com/trending'], prompt=\"Extract the top 5 trending repositories\")"
   ]
  },
  {
   "cell_type": "code",
   "execution_count": 11,
   "metadata": {},
   "outputs": [
    {
     "name": "stdout",
     "output_type": "stream",
     "text": [
      "\u001b[0;31mSignature:\u001b[0m\n",
      "\u001b[0mapp\u001b[0m\u001b[0;34m.\u001b[0m\u001b[0mextract\u001b[0m\u001b[0;34m(\u001b[0m\u001b[0;34m\u001b[0m\n",
      "\u001b[0;34m\u001b[0m    \u001b[0murls\u001b[0m\u001b[0;34m:\u001b[0m \u001b[0mOptional\u001b[0m\u001b[0;34m[\u001b[0m\u001b[0mList\u001b[0m\u001b[0;34m[\u001b[0m\u001b[0mstr\u001b[0m\u001b[0;34m]\u001b[0m\u001b[0;34m]\u001b[0m \u001b[0;34m=\u001b[0m \u001b[0;32mNone\u001b[0m\u001b[0;34m,\u001b[0m\u001b[0;34m\u001b[0m\n",
      "\u001b[0;34m\u001b[0m    \u001b[0;34m*\u001b[0m\u001b[0;34m,\u001b[0m\u001b[0;34m\u001b[0m\n",
      "\u001b[0;34m\u001b[0m    \u001b[0mprompt\u001b[0m\u001b[0;34m:\u001b[0m \u001b[0mOptional\u001b[0m\u001b[0;34m[\u001b[0m\u001b[0mstr\u001b[0m\u001b[0;34m]\u001b[0m \u001b[0;34m=\u001b[0m \u001b[0;32mNone\u001b[0m\u001b[0;34m,\u001b[0m\u001b[0;34m\u001b[0m\n",
      "\u001b[0;34m\u001b[0m    \u001b[0mschema\u001b[0m\u001b[0;34m:\u001b[0m \u001b[0mOptional\u001b[0m\u001b[0;34m[\u001b[0m\u001b[0mAny\u001b[0m\u001b[0;34m]\u001b[0m \u001b[0;34m=\u001b[0m \u001b[0;32mNone\u001b[0m\u001b[0;34m,\u001b[0m\u001b[0;34m\u001b[0m\n",
      "\u001b[0;34m\u001b[0m    \u001b[0msystem_prompt\u001b[0m\u001b[0;34m:\u001b[0m \u001b[0mOptional\u001b[0m\u001b[0;34m[\u001b[0m\u001b[0mstr\u001b[0m\u001b[0;34m]\u001b[0m \u001b[0;34m=\u001b[0m \u001b[0;32mNone\u001b[0m\u001b[0;34m,\u001b[0m\u001b[0;34m\u001b[0m\n",
      "\u001b[0;34m\u001b[0m    \u001b[0mallow_external_links\u001b[0m\u001b[0;34m:\u001b[0m \u001b[0mOptional\u001b[0m\u001b[0;34m[\u001b[0m\u001b[0mbool\u001b[0m\u001b[0;34m]\u001b[0m \u001b[0;34m=\u001b[0m \u001b[0;32mFalse\u001b[0m\u001b[0;34m,\u001b[0m\u001b[0;34m\u001b[0m\n",
      "\u001b[0;34m\u001b[0m    \u001b[0menable_web_search\u001b[0m\u001b[0;34m:\u001b[0m \u001b[0mOptional\u001b[0m\u001b[0;34m[\u001b[0m\u001b[0mbool\u001b[0m\u001b[0;34m]\u001b[0m \u001b[0;34m=\u001b[0m \u001b[0;32mFalse\u001b[0m\u001b[0;34m,\u001b[0m\u001b[0;34m\u001b[0m\n",
      "\u001b[0;34m\u001b[0m    \u001b[0mshow_sources\u001b[0m\u001b[0;34m:\u001b[0m \u001b[0mOptional\u001b[0m\u001b[0;34m[\u001b[0m\u001b[0mbool\u001b[0m\u001b[0;34m]\u001b[0m \u001b[0;34m=\u001b[0m \u001b[0;32mFalse\u001b[0m\u001b[0;34m,\u001b[0m\u001b[0;34m\u001b[0m\n",
      "\u001b[0;34m\u001b[0m    \u001b[0magent\u001b[0m\u001b[0;34m:\u001b[0m \u001b[0mOptional\u001b[0m\u001b[0;34m[\u001b[0m\u001b[0mDict\u001b[0m\u001b[0;34m[\u001b[0m\u001b[0mstr\u001b[0m\u001b[0;34m,\u001b[0m \u001b[0mAny\u001b[0m\u001b[0;34m]\u001b[0m\u001b[0;34m]\u001b[0m \u001b[0;34m=\u001b[0m \u001b[0;32mNone\u001b[0m\u001b[0;34m,\u001b[0m\u001b[0;34m\u001b[0m\n",
      "\u001b[0;34m\u001b[0m\u001b[0;34m)\u001b[0m \u001b[0;34m->\u001b[0m \u001b[0mfirecrawl\u001b[0m\u001b[0;34m.\u001b[0m\u001b[0mfirecrawl\u001b[0m\u001b[0;34m.\u001b[0m\u001b[0mExtractResponse\u001b[0m\u001b[0;34m[\u001b[0m\u001b[0mAny\u001b[0m\u001b[0;34m]\u001b[0m\u001b[0;34m\u001b[0m\u001b[0;34m\u001b[0m\u001b[0m\n",
      "\u001b[0;31mDocstring:\u001b[0m\n",
      "Extract structured information from URLs.\n",
      "\n",
      "Args:\n",
      "    urls (Optional[List[str]]): URLs to extract from\n",
      "    prompt (Optional[str]): Custom extraction prompt\n",
      "    schema (Optional[Any]): JSON schema/Pydantic model\n",
      "    system_prompt (Optional[str]): System context\n",
      "    allow_external_links (Optional[bool]): Follow external links\n",
      "    enable_web_search (Optional[bool]): Enable web search\n",
      "    show_sources (Optional[bool]): Include source URLs\n",
      "    agent (Optional[Dict[str, Any]]): Agent configuration\n",
      "\n",
      "Returns:\n",
      "    ExtractResponse[Any] with:\n",
      "    * success (bool): Whether request succeeded\n",
      "    * data (Optional[Any]): Extracted data matching schema\n",
      "    * error (Optional[str]): Error message if any\n",
      "\n",
      "Raises:\n",
      "    ValueError: If prompt/schema missing or extraction fails\n",
      "\u001b[0;31mFile:\u001b[0m      ~/firecrawl/firecrawl-app-examples/crewai_chatgpt_clone/.venv/lib/python3.12/site-packages/firecrawl/firecrawl.py\n",
      "\u001b[0;31mType:\u001b[0m      method"
     ]
    }
   ],
   "source": [
    "app.extract?"
   ]
  },
  {
   "cell_type": "code",
   "execution_count": 12,
   "metadata": {},
   "outputs": [
    {
     "data": {
      "text/plain": [
       "ExtractResponse(id=None, status='completed', expiresAt=datetime.datetime(2025, 5, 15, 16, 45, 5, tzinfo=TzInfo(UTC)), success=True, data={'trending_repositories': [{'url': 'https://github.com/TapXWorld/ChinaTextbook', 'name': 'ChinaTextbook', 'owner': 'TapXWorld', 'stars': 4103, 'description': '所有小初高、大学PDF教材。'}, {'url': 'https://github.com/microsoft/BitNet', 'name': 'BitNet', 'owner': 'microsoft', 'stars': 19392, 'description': 'Official inference framework for 1-bit LLMs'}, {'url': 'https://github.com/mem0ai/mem0', 'name': 'mem0', 'owner': 'mem0ai', 'stars': 30127, 'description': 'Memory for AI Agents; SOTA in AI Agent Memory; Announcing OpenMemory MCP - local and secure memory management.'}, {'url': 'https://github.com/airweave-ai/airweave', 'name': 'airweave', 'owner': 'airweave-ai', 'stars': 1795, 'description': 'Airweave lets agents search any app'}, {'url': 'https://github.com/alibaba/spring-ai-alibaba', 'name': 'spring-ai-alibaba', 'owner': 'alibaba', 'stars': 3133, 'description': 'Agentic AI Framework for Java Developers'}]}, error=None, warning=None, sources=None)"
      ]
     },
     "execution_count": 12,
     "metadata": {},
     "output_type": "execute_result"
    }
   ],
   "source": [
    "results"
   ]
  },
  {
   "cell_type": "code",
   "execution_count": 13,
   "metadata": {},
   "outputs": [
    {
     "data": {
      "text/plain": [
       "{'trending_repositories': [{'url': 'https://github.com/TapXWorld/ChinaTextbook',\n",
       "   'name': 'ChinaTextbook',\n",
       "   'owner': 'TapXWorld',\n",
       "   'stars': 4103,\n",
       "   'description': '所有小初高、大学PDF教材。'},\n",
       "  {'url': 'https://github.com/microsoft/BitNet',\n",
       "   'name': 'BitNet',\n",
       "   'owner': 'microsoft',\n",
       "   'stars': 19392,\n",
       "   'description': 'Official inference framework for 1-bit LLMs'},\n",
       "  {'url': 'https://github.com/mem0ai/mem0',\n",
       "   'name': 'mem0',\n",
       "   'owner': 'mem0ai',\n",
       "   'stars': 30127,\n",
       "   'description': 'Memory for AI Agents; SOTA in AI Agent Memory; Announcing OpenMemory MCP - local and secure memory management.'},\n",
       "  {'url': 'https://github.com/airweave-ai/airweave',\n",
       "   'name': 'airweave',\n",
       "   'owner': 'airweave-ai',\n",
       "   'stars': 1795,\n",
       "   'description': 'Airweave lets agents search any app'},\n",
       "  {'url': 'https://github.com/alibaba/spring-ai-alibaba',\n",
       "   'name': 'spring-ai-alibaba',\n",
       "   'owner': 'alibaba',\n",
       "   'stars': 3133,\n",
       "   'description': 'Agentic AI Framework for Java Developers'}]}"
      ]
     },
     "execution_count": 13,
     "metadata": {},
     "output_type": "execute_result"
    }
   ],
   "source": [
    "results.data"
   ]
  },
  {
   "cell_type": "markdown",
   "metadata": {},
   "source": [
    "Extract docs: https://docs.firecrawl.dev/features/extract"
   ]
  },
  {
   "cell_type": "code",
   "execution_count": 14,
   "metadata": {},
   "outputs": [],
   "source": [
    "from openai import OpenAI\n",
    "import base64\n",
    "\n",
    "client = OpenAI()\n",
    "\n",
    "prompt = \"\"\"\n",
    "A futuristic cityscape at sunset, with flying cars and neon lights\n",
    "\"\"\"\n",
    "\n",
    "result = client.images.generate(model=\"gpt-image-1\", prompt=prompt)\n",
    "\n",
    "image_base64 = result.data[0].b64_json\n",
    "image_bytes = base64.b64decode(image_base64)\n",
    "\n",
    "# # Save the image to a file\n",
    "# with open(\"otter.png\", \"wb\") as f:\n",
    "#     f.write(image_bytes)"
   ]
  }
 ],
 "metadata": {
  "kernelspec": {
   "display_name": ".venv",
   "language": "python",
   "name": "python3"
  },
  "language_info": {
   "codemirror_mode": {
    "name": "ipython",
    "version": 3
   },
   "file_extension": ".py",
   "mimetype": "text/x-python",
   "name": "python",
   "nbconvert_exporter": "python",
   "pygments_lexer": "ipython3",
   "version": "3.12.1"
  }
 },
 "nbformat": 4,
 "nbformat_minor": 2
}
