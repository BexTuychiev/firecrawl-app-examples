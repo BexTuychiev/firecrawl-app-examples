{
 "cells": [
  {
   "cell_type": "code",
   "execution_count": 2,
   "metadata": {},
   "outputs": [
    {
     "data": {
      "text/plain": [
       "True"
      ]
     },
     "execution_count": 2,
     "metadata": {},
     "output_type": "execute_result"
    }
   ],
   "source": [
    "from firecrawl import FirecrawlApp\n",
    "from dotenv import load_dotenv\n",
    "\n",
    "load_dotenv()"
   ]
  },
  {
   "cell_type": "code",
   "execution_count": 3,
   "metadata": {},
   "outputs": [],
   "source": [
    "base_url = \"https://github.com/trending\""
   ]
  },
  {
   "cell_type": "code",
   "execution_count": 4,
   "metadata": {},
   "outputs": [],
   "source": [
    "from typing import Optional, List\n",
    "from pydantic import BaseModel, Field\n",
    "\n",
    "class GitHubRepository(BaseModel):\n",
    "    name: str = Field(description=\"Full name of the repository (owner/repo)\")\n",
    "    description: Optional[str] = Field(None, description=\"Repository description\")\n",
    "    language: Optional[str] = Field(None, description=\"Main programming language\")\n",
    "    stars_count: Optional[str] = Field(None, description=\"Total number of stars\")\n",
    "    stars_today: Optional[str] = Field(None, description=\"Stars gained today\")\n",
    "    forks_count: Optional[str] = Field(None, description=\"Total number of forks\")\n",
    "    repo_owner: Optional[str] = Field(None, description=\"Repository owner\")\n",
    "    repo_url: Optional[str] = Field(None, description=\"Repository URL\")\n",
    "    \n",
    "    \n",
    "class Repositories(BaseModel):\n",
    "    repositories: List[GitHubRepository]\n",
    "    \n"
   ]
  },
  {
   "cell_type": "code",
   "execution_count": 22,
   "metadata": {},
   "outputs": [],
   "source": [
    "app = FirecrawlApp()\n",
    "\n",
    "result = app.scrape_url(\n",
    "    base_url,\n",
    "    params={\n",
    "        \"formats\": [\"extract\"],\n",
    "        \"extract\": {\n",
    "            \"prompt\": \"Scrape the GitHub trending page and extract the repositories based on the schema provided.\",\n",
    "            \"schema\": Repositories.model_json_schema()\n",
    "        }\n",
    "    }\n",
    ")\n"
   ]
  },
  {
   "cell_type": "code",
   "execution_count": 23,
   "metadata": {},
   "outputs": [
    {
     "data": {
      "text/plain": [
       "dict_keys(['metadata', 'extract'])"
      ]
     },
     "execution_count": 23,
     "metadata": {},
     "output_type": "execute_result"
    }
   ],
   "source": [
    "result.keys()"
   ]
  },
  {
   "cell_type": "code",
   "execution_count": 24,
   "metadata": {},
   "outputs": [
    {
     "data": {
      "text/plain": [
       "dict_keys(['repositories'])"
      ]
     },
     "execution_count": 24,
     "metadata": {},
     "output_type": "execute_result"
    }
   ],
   "source": [
    "result['extract'].keys()"
   ]
  },
  {
   "cell_type": "code",
   "execution_count": 25,
   "metadata": {},
   "outputs": [
    {
     "data": {
      "text/plain": [
       "dict_keys(['google-site-verification', 'twitter:creator:id', 'browser-errors-url', 'viewport', 'html-safe-nonce', 'apple-itunes-app', 'visitor-payload', 'twitter:card', 'request-id', 'ogDescription', 'og:image', 'og:site_name', 'twitter:site:id', 'expected-hostname', 'og:description', 'twitter:description', 'user-login', 'twitter:creator', 'twitter:image:width', 'hostname', 'color-scheme', 'og:url', 'route-action', 'ogUrl', 'github-keyboard-shortcuts', 'twitter:image:height', 'turbo-cache-control', 'og:image:width', 'title', 'ogSiteName', 'twitter:site', 'twitter:title', 'browser-stats-url', 'favicon', 'turbo-body-classes', 'octolytics-url', 'og:image:type', 'ogImage', 'route-controller', 'current-catalog-service-hash', 'route-pattern', 'og:title', 'og:image:height', 'description', 'visitor-hmac', 'twitter:image', 'theme-color', 'language', 'ogTitle', 'fb:app_id', 'scrapeId', 'sourceURL', 'url', 'statusCode'])"
      ]
     },
     "execution_count": 25,
     "metadata": {},
     "output_type": "execute_result"
    }
   ],
   "source": [
    "result['metadata'].keys()"
   ]
  },
  {
   "cell_type": "code",
   "execution_count": 26,
   "metadata": {},
   "outputs": [
    {
     "data": {
      "text/plain": [
       "[{'name': 'glance',\n",
       "  'description': 'A self-hosted dashboard that puts all your feeds in one place',\n",
       "  'language': 'Go',\n",
       "  'stars_count': '16,243',\n",
       "  'stars_today': '2,039',\n",
       "  'forks_count': '574',\n",
       "  'repo_owner': 'glanceapp',\n",
       "  'repo_url': 'https://github.com/glanceapp/glance'},\n",
       " {'name': 'ollama-deep-researcher',\n",
       "  'description': 'Fully local web research and report writing assistant',\n",
       "  'language': 'Python',\n",
       "  'stars_count': '3,941',\n",
       "  'stars_today': '464',\n",
       "  'forks_count': '455',\n",
       "  'repo_owner': 'langchain-ai',\n",
       "  'repo_url': 'https://github.com/langchain-ai/ollama-deep-researcher'},\n",
       " {'name': 'kickstart.nvim',\n",
       "  'description': 'A launch point for your personal nvim configuration',\n",
       "  'language': 'Lua',\n",
       "  'stars_count': '22,700',\n",
       "  'stars_today': '109',\n",
       "  'forks_count': '29,875',\n",
       "  'repo_owner': 'nvim-lua',\n",
       "  'repo_url': 'https://github.com/nvim-lua/kickstart.nvim'},\n",
       " {'name': 'RD-Agent',\n",
       "  'description': 'Research and development (R&D) is crucial for the enhancement of industrial productivity, especially in the AI era, where the core aspects of R&D are mainly focused on data and models. We are committed to automating these high-value generic R&D processes through our open source R&D automation tool RD-Agent, which lets AI drive data-driven AI.',\n",
       "  'language': 'Python',\n",
       "  'stars_count': '2,929',\n",
       "  'stars_today': '370',\n",
       "  'forks_count': '239',\n",
       "  'repo_owner': 'microsoft',\n",
       "  'repo_url': 'https://github.com/microsoft/RD-Agent'},\n",
       " {'name': 'cal.com',\n",
       "  'description': 'Scheduling infrastructure for absolutely everyone.',\n",
       "  'language': 'TypeScript',\n",
       "  'stars_count': '34,936',\n",
       "  'stars_today': '383',\n",
       "  'forks_count': '8,897',\n",
       "  'repo_owner': 'calcom',\n",
       "  'repo_url': 'https://github.com/calcom/cal.com'},\n",
       " {'name': 'ai-engineering-hub',\n",
       "  'description': 'Jupyter Notebook',\n",
       "  'language': 'Jupyter Notebook',\n",
       "  'stars_count': '5,073',\n",
       "  'stars_today': '319',\n",
       "  'forks_count': '986',\n",
       "  'repo_owner': 'patchy631',\n",
       "  'repo_url': 'https://github.com/patchy631/ai-engineering-hub'},\n",
       " {'name': 'sossoldi',\n",
       "  'description': '\"Sossoldi\" is a wealth management / personal finance / Net Worth tracking app, made with Flutter.',\n",
       "  'language': 'Dart',\n",
       "  'stars_count': '856',\n",
       "  'stars_today': '256',\n",
       "  'forks_count': '149',\n",
       "  'repo_owner': 'RIP-Comm',\n",
       "  'repo_url': 'https://github.com/RIP-Comm/sossoldi'},\n",
       " {'name': 'xpipe',\n",
       "  'description': 'Access your entire server infrastructure from your local desktop',\n",
       "  'language': 'Java',\n",
       "  'stars_count': '9,099',\n",
       "  'stars_today': '667',\n",
       "  'forks_count': '304',\n",
       "  'repo_owner': 'xpipe-io',\n",
       "  'repo_url': 'https://github.com/xpipe-io/xpipe'},\n",
       " {'name': 'dice',\n",
       "  'description': 'DiceDB is an open-source, fast, reactive, in-memory database optimized for modern hardware.',\n",
       "  'language': 'Go',\n",
       "  'stars_count': '8,447',\n",
       "  'stars_today': '173',\n",
       "  'forks_count': '1,217',\n",
       "  'repo_owner': 'DiceDB',\n",
       "  'repo_url': 'https://github.com/DiceDB/dice'},\n",
       " {'name': 'changed-files',\n",
       "  'description': '![:octocat:](https://github.githubassets.com/images/icons/emoji/octocat.png) Github action to retrieve all (added, copied, modified, deleted, renamed, type changed, unmerged, unknown) files and directories.',\n",
       "  'language': 'TypeScript',\n",
       "  'stars_count': '2,139',\n",
       "  'stars_today': '132',\n",
       "  'forks_count': '239',\n",
       "  'repo_owner': 'tj-actions',\n",
       "  'repo_url': 'https://github.com/tj-actions/changed-files'},\n",
       " {'name': 'system-design-primer',\n",
       "  'description': 'Learn how to design large-scale systems. Prep for the system design interview. Includes Anki flashcards.',\n",
       "  'language': 'Python',\n",
       "  'stars_count': '292,630',\n",
       "  'stars_today': '530',\n",
       "  'forks_count': '48,671',\n",
       "  'repo_owner': 'donnemartin',\n",
       "  'repo_url': 'https://github.com/donnemartin/system-design-primer'},\n",
       " {'name': 'coreutils',\n",
       "  'description': 'Cross-platform Rust rewrite of the GNU coreutils',\n",
       "  'language': 'Rust',\n",
       "  'stars_count': '19,150',\n",
       "  'stars_today': '223',\n",
       "  'forks_count': '1,368',\n",
       "  'repo_owner': 'uutils',\n",
       "  'repo_url': 'https://github.com/uutils/coreutils'},\n",
       " {'name': 'OpenBB',\n",
       "  'description': 'Investment Research for Everyone, Everywhere.',\n",
       "  'language': 'Python',\n",
       "  'stars_count': '37,099',\n",
       "  'stars_today': '166',\n",
       "  'forks_count': '3,368',\n",
       "  'repo_owner': 'OpenBB-finance',\n",
       "  'repo_url': 'https://github.com/OpenBB-finance/OpenBB'}]"
      ]
     },
     "execution_count": 26,
     "metadata": {},
     "output_type": "execute_result"
    }
   ],
   "source": [
    "result['extract']['repositories']"
   ]
  }
 ],
 "metadata": {
  "kernelspec": {
   "display_name": ".venv",
   "language": "python",
   "name": "python3"
  },
  "language_info": {
   "codemirror_mode": {
    "name": "ipython",
    "version": 3
   },
   "file_extension": ".py",
   "mimetype": "text/x-python",
   "name": "python",
   "nbconvert_exporter": "python",
   "pygments_lexer": "ipython3",
   "version": "3.10.16"
  }
 },
 "nbformat": 4,
 "nbformat_minor": 2
}
